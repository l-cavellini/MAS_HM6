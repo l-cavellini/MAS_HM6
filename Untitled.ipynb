{
 "cells": [
  {
   "cell_type": "markdown",
   "id": "6152569c",
   "metadata": {},
   "source": [
    "Individual HM6 Resit \n"
   ]
  },
  {
   "cell_type": "code",
   "execution_count": null,
   "id": "d74cbce6",
   "metadata": {},
   "outputs": [],
   "source": [
    "from math import sqrt, log, exp\n",
    "import random \n",
    "from copy import deepcopy\n",
    "import numpy as np "
   ]
  }
 ],
 "metadata": {
  "kernelspec": {
   "display_name": "Python 3 (ipykernel)",
   "language": "python",
   "name": "python3"
  },
  "language_info": {
   "codemirror_mode": {
    "name": "ipython",
    "version": 3
   },
   "file_extension": ".py",
   "mimetype": "text/x-python",
   "name": "python",
   "nbconvert_exporter": "python",
   "pygments_lexer": "ipython3",
   "version": "3.9.13"
  }
 },
 "nbformat": 4,
 "nbformat_minor": 5
}
